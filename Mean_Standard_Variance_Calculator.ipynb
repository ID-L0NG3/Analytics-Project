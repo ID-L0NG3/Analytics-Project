{
  "nbformat": 4,
  "nbformat_minor": 0,
  "metadata": {
    "colab": {
      "provenance": [],
      "authorship_tag": "ABX9TyPWOTOmiYAVSXmCeawNXmt+",
      "include_colab_link": true
    },
    "kernelspec": {
      "name": "python3",
      "display_name": "Python 3"
    },
    "language_info": {
      "name": "python"
    }
  },
  "cells": [
    {
      "cell_type": "markdown",
      "metadata": {
        "id": "view-in-github",
        "colab_type": "text"
      },
      "source": [
        "<a href=\"https://colab.research.google.com/github/ID-L0NG3/Analytics-Project/blob/main/Mean_Standard_Variance_Calculator.ipynb\" target=\"_parent\"><img src=\"https://colab.research.google.com/assets/colab-badge.svg\" alt=\"Open In Colab\"/></a>"
      ]
    },
    {
      "cell_type": "code",
      "execution_count": 1,
      "metadata": {
        "id": "Psab02Vy9PKC"
      },
      "outputs": [],
      "source": [
        "import pandas as pd\n",
        "import numpy as np"
      ]
    },
    {
      "cell_type": "code",
      "source": [
        "def calculate(array):\n",
        "  array = array.reshape([3,3])\n",
        "  mean = [np.mean(array, axis=0).tolist(), np.mean(array, axis=1).tolist(), np.mean(array).tolist()]\n",
        "  variance = [np.var(array, axis=0).tolist(), np.var(array, axis=1).tolist(), np.var(array).tolist()]\n",
        "  std = [np.std(array, axis=0).tolist(), np.std(array, axis=1).tolist(), np.std(array).tolist()]\n",
        "  max = [np.max(array, axis=0).tolist(), np.max(array, axis=1).tolist(), np.max(array).tolist()]\n",
        "  min = [np.min(array, axis=0).tolist(), np.min(array, axis=1).tolist(), np.min(array).tolist()]\n",
        "  sum = [np.sum(array, axis=0).tolist(), np.sum(array, axis=1).tolist(), np.sum(array).tolist()]\n",
        "  print(f\"mean: {mean}\")\n",
        "  print(f\"variance: {variance}\")\n",
        "  print(f\"standard deviation: {std}\")\n",
        "  print(f\"max: {max}\")\n",
        "  print(f\"min: {min}\")\n",
        "  print(f\"sum: {sum}\")"
      ],
      "metadata": {
        "id": "O77vncDfJU6b"
      },
      "execution_count": 15,
      "outputs": []
    },
    {
      "cell_type": "code",
      "source": [
        "test = np.array([0,1,2,3,4,5,6,7,8])\n",
        "calculate(test)"
      ],
      "metadata": {
        "colab": {
          "base_uri": "https://localhost:8080/"
        },
        "id": "M_pDvngBJpNA",
        "outputId": "c4f80c4b-ec73-4c9c-948d-aa706f348a2e"
      },
      "execution_count": 16,
      "outputs": [
        {
          "output_type": "stream",
          "name": "stdout",
          "text": [
            "mean: [[3.0, 4.0, 5.0], [1.0, 4.0, 7.0], 4.0]\n",
            "variance: [[6.0, 6.0, 6.0], [0.6666666666666666, 0.6666666666666666, 0.6666666666666666], 6.666666666666667]\n",
            "standard deviation: [[2.449489742783178, 2.449489742783178, 2.449489742783178], [0.816496580927726, 0.816496580927726, 0.816496580927726], 2.581988897471611]\n",
            "max: [[6, 7, 8], [2, 5, 8], 8]\n",
            "min: [[0, 1, 2], [0, 3, 6], 0]\n",
            "sum: [[9, 12, 15], [3, 12, 21], 36]\n"
          ]
        }
      ]
    }
  ]
}